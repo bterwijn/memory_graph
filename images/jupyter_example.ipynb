{
 "cells": [
  {
   "cell_type": "markdown",
   "id": "23f6d43f-dd17-4020-971e-5bb8a5b1e30b",
   "metadata": {},
   "source": [
    "# test: locals_jupyter()\n",
    "Show a graph build with the filtered Jupyter locals using function `mg.locals_jupyter()`. Just adding integers to a list:"
   ]
  },
  {
   "cell_type": "code",
   "execution_count": null,
   "id": "e8913787-bbef-4adb-b027-ac0f28500233",
   "metadata": {},
   "outputs": [],
   "source": [
    "import memory_graph as mg\n",
    "\n",
    "data = []\n",
    "for i in range(5):\n",
    "    data.append(i)\n",
    "    display(mg.create_graph(mg.locals_jupyter())) # display in jupyter notebook\n",
    "    mg.block(mg.show, mg.locals_jupyter()) # display in PDF reader\n",
    "    "
   ]
  },
  {
   "cell_type": "markdown",
   "id": "f66d9b8d-0937-4ad0-97b4-a7459e84c4f2",
   "metadata": {},
   "source": [
    "# test: get_call_stack_jupyter()\n",
    "Show a graph build the filterd Jupyter call stack from function `mg.get_call_stack_jupyter()`. Recursively filling a list with all permutation of elements with resampling:"
   ]
  },
  {
   "cell_type": "code",
   "execution_count": null,
   "id": "15d0c443-7cc6-4b4f-a9db-598aaf261364",
   "metadata": {},
   "outputs": [],
   "source": [
    "import memory_graph as mg\n",
    "\n",
    "def get_all_permutations(permutations, elements, data, max_length):\n",
    "    if len(data) == max_length: # recursive stop condition\n",
    "        permutations.append(data.copy())\n",
    "    else:\n",
    "        for i in elements:\n",
    "            data.append(i)\n",
    "            mg.block(mg.show, mg.get_call_stack_jupyter())\n",
    "            get_all_permutations(permutations, elements, data, max_length)\n",
    "            data.pop()\n",
    "            mg.block(mg.show, mg.get_call_stack_jupyter())\n",
    "\n",
    "permutations = []\n",
    "get_all_permutations(permutations, ['L','R'], [], 3)\n",
    "print(permutations)"
   ]
  }
 ],
 "metadata": {
  "kernelspec": {
   "display_name": "Python 3 (ipykernel)",
   "language": "python",
   "name": "python3"
  },
  "language_info": {
   "codemirror_mode": {
    "name": "ipython",
    "version": 3
   },
   "file_extension": ".py",
   "mimetype": "text/x-python",
   "name": "python",
   "nbconvert_exporter": "python",
   "pygments_lexer": "ipython3",
   "version": "3.12.3"
  }
 },
 "nbformat": 4,
 "nbformat_minor": 5
}
