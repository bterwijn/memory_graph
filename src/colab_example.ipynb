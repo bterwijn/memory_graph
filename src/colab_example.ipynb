{
  "nbformat": 4,
  "nbformat_minor": 0,
  "metadata": {
    "colab": {
      "provenance": []
    },
    "kernelspec": {
      "name": "python3",
      "display_name": "Python 3"
    },
    "language_info": {
      "name": "python"
    }
  },
  "cells": [
    {
      "cell_type": "code",
      "execution_count": null,
      "metadata": {
        "id": "bjVWFC4L3xwA"
      },
      "outputs": [],
      "source": [
        "# install/upgrade memory_graph\n",
        "!pip install --upgrade memory_graph"
      ]
    },
    {
      "cell_type": "code",
      "source": [
        "import memory_graph as mg\n",
        "from IPython.display import SVG\n",
        "import copy\n",
        "\n",
        "def custom_copy(a):\n",
        "  c = a.copy()\n",
        "  c[1] = a[1].copy()\n",
        "  mg.render(mg.stack_colab(), 'graph_stack.svg') # call stack\n",
        "  return c\n",
        "\n",
        "a = [[1, 2], ['x', 'y']]\n",
        "c1 = a\n",
        "c2 = copy.copy(a)\n",
        "c3 = custom_copy(a)\n",
        "SVG(filename='graph_stack.svg')"
      ],
      "metadata": {
        "id": "7sqUe1Ut3036"
      },
      "execution_count": null,
      "outputs": []
    },
    {
      "cell_type": "code",
      "source": [
        "c4 = copy.deepcopy(a)\n",
        "mg.render(mg.locals_colab(), 'graph_locals.svg') # local variables\n",
        "SVG(filename='graph_locals.svg')"
      ],
      "metadata": {
        "id": "99SXvl0IKBtO"
      },
      "execution_count": null,
      "outputs": []
    },
    {
      "cell_type": "code",
      "source": [],
      "metadata": {
        "id": "O74cC1usQn2P"
      },
      "execution_count": null,
      "outputs": []
    }
  ]
}